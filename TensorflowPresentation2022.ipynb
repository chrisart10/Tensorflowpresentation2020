{
  "nbformat": 4,
  "nbformat_minor": 0,
  "metadata": {
    "colab": {
      "name": "TensorflowPresentacion2022.ipynb",
      "provenance": [],
      "collapsed_sections": [],
      "include_colab_link": true
    },
    "kernelspec": {
      "name": "python3",
      "display_name": "Python 3"
    },
    "language_info": {
      "name": "python"
    }
  },
  "cells": [
    {
      "cell_type": "markdown",
      "metadata": {
        "id": "view-in-github",
        "colab_type": "text"
      },
      "source": [
        "<a href=\"https://colab.research.google.com/github/chrisart10/Tensorflowpresentation2022/blob/main/TensorflowPresentation2022.ipynb\" target=\"_parent\"><img src=\"https://colab.research.google.com/assets/colab-badge.svg\" alt=\"Open In Colab\"/></a>"
      ]
    },
    {
      "cell_type": "markdown",
      "source": [
        "Verificar la version de python"
      ],
      "metadata": {
        "id": "blbRYvhz2YX0"
      }
    },
    {
      "cell_type": "code",
      "source": [
        "!python --version"
      ],
      "metadata": {
        "colab": {
          "base_uri": "https://localhost:8080/"
        },
        "id": "V6z6KQsB0gmX",
        "outputId": "5a85bf80-c892-4b65-943f-cb2231dafe31"
      },
      "execution_count": 14,
      "outputs": [
        {
          "output_type": "stream",
          "name": "stdout",
          "text": [
            "Python 3.7.12\n"
          ]
        }
      ]
    },
    {
      "cell_type": "markdown",
      "source": [
        "Verificar si tensorflow esta instalado y que version tiene."
      ],
      "metadata": {
        "id": "T9hqEJsO0ViE"
      }
    },
    {
      "cell_type": "code",
      "source": [
        "!pip list | grep tensorflow"
      ],
      "metadata": {
        "colab": {
          "base_uri": "https://localhost:8080/"
        },
        "id": "PsRdx22q109D",
        "outputId": "4a9174be-305e-42f9-917b-1440de81bccf"
      },
      "execution_count": 15,
      "outputs": [
        {
          "output_type": "stream",
          "name": "stdout",
          "text": [
            "tensorflow                    2.7.0\n",
            "tensorflow-datasets           4.0.1\n",
            "tensorflow-estimator          2.7.0\n",
            "tensorflow-gcs-config         2.7.0\n",
            "tensorflow-hub                0.12.0\n",
            "tensorflow-io-gcs-filesystem  0.23.1\n",
            "tensorflow-metadata           1.5.0\n",
            "tensorflow-probability        0.15.0\n"
          ]
        }
      ]
    },
    {
      "cell_type": "code",
      "execution_count": 16,
      "metadata": {
        "id": "uAOROrok4uOb"
      },
      "outputs": [],
      "source": [
        "# Es importante que solo importen lo que van a usar. \n",
        "import tensorflow as tf "
      ]
    },
    {
      "cell_type": "markdown",
      "source": [
        "# Ejemplo 1 (Funcional)\n"
      ],
      "metadata": {
        "id": "7hEaRyI-5W5h"
      }
    },
    {
      "cell_type": "code",
      "source": [
        "# NumPy es un proyecto de código abierto que tiene como objetivo habilitar la computación numérica con Python.\n",
        "import numpy as np"
      ],
      "metadata": {
        "id": "hol1UMc2CGw0"
      },
      "execution_count": 5,
      "outputs": []
    },
    {
      "cell_type": "code",
      "source": [
        "# Dataset \n",
        "# Usamos arreglos con numpy. Tensorflow esta integrado con numpy y esto evitara errores de compatibilidad.\n",
        "y = np.array([2,4,6,8,10,12,14,16],dtype=\"float64\") #  Respuestas\n",
        "x = np.array([1,2,3,4,5,6,7,8],dtype=\"float64\")     #  Datos de entrada\n",
        "(x.shape,y.shape)"
      ],
      "metadata": {
        "colab": {
          "base_uri": "https://localhost:8080/"
        },
        "id": "ZjERY-EcDfg_",
        "outputId": "bd9305f4-10eb-4314-a889-823744d4b403"
      },
      "execution_count": 79,
      "outputs": [
        {
          "output_type": "execute_result",
          "data": {
            "text/plain": [
              "((8,), (8,))"
            ]
          },
          "metadata": {},
          "execution_count": 79
        }
      ]
    },
    {
      "cell_type": "code",
      "source": [
        "#Capa 0 que recibira los datos \n",
        "Layer_0 = tf.keras.layers.Input(shape=(1,),name=\"Layer_0\")\n",
        "Layer_0"
      ],
      "metadata": {
        "colab": {
          "base_uri": "https://localhost:8080/"
        },
        "id": "qiJHPDpsFM5q",
        "outputId": "f9fb8b3e-e1a5-456a-b55e-08f5dd5af37d"
      },
      "execution_count": 80,
      "outputs": [
        {
          "output_type": "execute_result",
          "data": {
            "text/plain": [
              "<KerasTensor: shape=(None, 1) dtype=float32 (created by layer 'Layer_0')>"
            ]
          },
          "metadata": {},
          "execution_count": 80
        }
      ]
    },
    {
      "cell_type": "code",
      "source": [
        "#Creamos la capa 1. En esta se realizara la operacion matematica Z = W*X + b\n",
        "Layer_1 = tf.keras.layers.Dense(1,name=\"Layer_1\")(Layer_0)\n",
        "Model = tf.keras.Model(inputs=Layer_0,outputs = Layer_1,name=\"modelo_v1\")"
      ],
      "metadata": {
        "id": "vqnThEnaGQVR"
      },
      "execution_count": 81,
      "outputs": []
    },
    {
      "cell_type": "code",
      "source": [
        "Model.summary()"
      ],
      "metadata": {
        "colab": {
          "base_uri": "https://localhost:8080/"
        },
        "id": "htV8UfMQG798",
        "outputId": "feab4f43-e0a0-429c-ae96-068e83c3be5e"
      },
      "execution_count": 82,
      "outputs": [
        {
          "output_type": "stream",
          "name": "stdout",
          "text": [
            "Model: \"modelo_v1\"\n",
            "_________________________________________________________________\n",
            " Layer (type)                Output Shape              Param #   \n",
            "=================================================================\n",
            " Layer_0 (InputLayer)        [(None, 1)]               0         \n",
            "                                                                 \n",
            " Layer_1 (Dense)             (None, 1)                 2         \n",
            "                                                                 \n",
            "=================================================================\n",
            "Total params: 2\n",
            "Trainable params: 2\n",
            "Non-trainable params: 0\n",
            "_________________________________________________________________\n"
          ]
        }
      ]
    },
    {
      "cell_type": "code",
      "source": [
        "tf.keras.utils.plot_model(Model,show_shapes=True)"
      ],
      "metadata": {
        "colab": {
          "base_uri": "https://localhost:8080/",
          "height": 201
        },
        "id": "HrS882ocHHS5",
        "outputId": "a7a7ccc8-be78-421b-ea9f-8f1c335150cb"
      },
      "execution_count": 83,
      "outputs": [
        {
          "output_type": "execute_result",
          "data": {
            "image/png": "[encoded data removed]",
            "text/plain": [
              "<IPython.core.display.Image object>"
            ]
          },
          "metadata": {},
          "execution_count": 83
        }
      ]
    },
    {
      "cell_type": "code",
      "source": [
        "# Compilar el modelo\n",
        "Model.compile(optimizer=\"sgd\",\n",
        "                     loss=\"mean_squared_error\",\n",
        "                     )\n",
        "# Entrenar el modelo\n",
        "# y = np.array([2,4,6,8,10,12,14,16],dtype=\"float64\") #  Respuestas\n",
        "# x = np.array([1,2,3,4,5,6,7,8],dtype=\"float64\")     #  Datos de entrada\n",
        "\n",
        "history = Model.fit(x,\n",
        "                  y,\n",
        "                  epochs=20,\n",
        "                  # verbose=2,\n",
        "                  batch_size=1 #32 es lo recomendado\n",
        "                         )"
      ],
      "metadata": {
        "colab": {
          "base_uri": "https://localhost:8080/"
        },
        "id": "U-aqDCP_HP7R",
        "outputId": "c9f0a84d-f5c5-49fc-9c4e-09c41c9adb31"
      },
      "execution_count": 84,
      "outputs": [
        {
          "output_type": "stream",
          "name": "stdout",
          "text": [
            "Epoch 1/20\n",
            "8/8 [==============================] - 0s 2ms/step - loss: 1.3185\n",
            "Epoch 2/20\n",
            "8/8 [==============================] - 0s 2ms/step - loss: 0.0042\n",
            "Epoch 3/20\n",
            "8/8 [==============================] - 0s 2ms/step - loss: 0.0049\n",
            "Epoch 4/20\n",
            "8/8 [==============================] - 0s 2ms/step - loss: 0.0034\n",
            "Epoch 5/20\n",
            "8/8 [==============================] - 0s 2ms/step - loss: 0.0043\n",
            "Epoch 6/20\n",
            "8/8 [==============================] - 0s 2ms/step - loss: 0.0039\n",
            "Epoch 7/20\n",
            "8/8 [==============================] - 0s 2ms/step - loss: 0.0032\n",
            "Epoch 8/20\n",
            "8/8 [==============================] - 0s 2ms/step - loss: 0.0030\n",
            "Epoch 9/20\n",
            "8/8 [==============================] - 0s 2ms/step - loss: 0.0029\n",
            "Epoch 10/20\n",
            "8/8 [==============================] - 0s 2ms/step - loss: 0.0028\n",
            "Epoch 11/20\n",
            "8/8 [==============================] - 0s 2ms/step - loss: 0.0020\n",
            "Epoch 12/20\n",
            "8/8 [==============================] - 0s 2ms/step - loss: 0.0017\n",
            "Epoch 13/20\n",
            "8/8 [==============================] - 0s 2ms/step - loss: 0.0022\n",
            "Epoch 14/20\n",
            "8/8 [==============================] - 0s 2ms/step - loss: 0.0022\n",
            "Epoch 15/20\n",
            "8/8 [==============================] - 0s 2ms/step - loss: 0.0021\n",
            "Epoch 16/20\n",
            "8/8 [==============================] - 0s 2ms/step - loss: 0.0017\n",
            "Epoch 17/20\n",
            "8/8 [==============================] - 0s 2ms/step - loss: 0.0012\n",
            "Epoch 18/20\n",
            "8/8 [==============================] - 0s 2ms/step - loss: 0.0012\n",
            "Epoch 19/20\n",
            "8/8 [==============================] - 0s 2ms/step - loss: 0.0015\n",
            "Epoch 20/20\n",
            "8/8 [==============================] - 0s 3ms/step - loss: 0.0011\n"
          ]
        }
      ]
    },
    {
      "cell_type": "code",
      "source": [
        "xs_test = np.array([10],dtype=\"float64\")\n",
        "ys_test = np.array([20],dtype=\"float64\")\n",
        "\n",
        "prediction = Model.predict(xs_test)\n",
        "print(\"La predicción es: \" + str(prediction) + \"\\nEl valor esperado es: \" + str(ys_test[0]))"
      ],
      "metadata": {
        "colab": {
          "base_uri": "https://localhost:8080/"
        },
        "id": "XABSBflBIG3D",
        "outputId": "8ad86cae-1e2d-4722-ed9f-23f46409ae7b"
      },
      "execution_count": 85,
      "outputs": [
        {
          "output_type": "stream",
          "name": "stdout",
          "text": [
            "La predicción es: [[19.914217]]\n",
            "El valor esperado es: 20.0\n"
          ]
        }
      ]
    },
    {
      "cell_type": "markdown",
      "source": [
        "# **Ejemplo** 2 "
      ],
      "metadata": {
        "id": "WRhdu0XV5nGQ"
      }
    },
    {
      "cell_type": "code",
      "source": [
        "mnist = tf.keras.datasets.mnist\n",
        "(x_train, y_train),(x_test, y_test) = mnist.load_data()\n",
        "\n",
        "x_train, x_test = x_train / 255.0, x_test / 255.0"
      ],
      "metadata": {
        "id": "ogw-lsL744IU"
      },
      "execution_count": 71,
      "outputs": []
    },
    {
      "cell_type": "code",
      "source": [
        "model = tf.keras.models.Sequential([\n",
        "  tf.keras.layers.Flatten(input_shape=(28, 28)),\n",
        "  tf.keras.layers.Dense(128, activation='relu'),\n",
        "  tf.keras.layers.Dropout(0.2),\n",
        "  tf.keras.layers.Dense(10, activation='softmax')\n",
        "])\n",
        "\n",
        "\n",
        "model.compile(optimizer='adam',\n",
        "              loss='sparse_categorical_crossentropy',\n",
        "              metrics=['accuracy'])"
      ],
      "metadata": {
        "id": "vrq903U77jXW"
      },
      "execution_count": 72,
      "outputs": []
    },
    {
      "cell_type": "code",
      "source": [
        "model.summary()"
      ],
      "metadata": {
        "colab": {
          "base_uri": "https://localhost:8080/"
        },
        "id": "WEDCZXvnrGnV",
        "outputId": "fcc881c9-e10b-412e-e3e0-0eb46606e749"
      },
      "execution_count": 86,
      "outputs": [
        {
          "output_type": "stream",
          "name": "stdout",
          "text": [
            "Model: \"sequential_2\"\n",
            "_________________________________________________________________\n",
            " Layer (type)                Output Shape              Param #   \n",
            "=================================================================\n",
            " flatten_2 (Flatten)         (None, 784)               0         \n",
            "                                                                 \n",
            " dense_6 (Dense)             (None, 128)               100480    \n",
            "                                                                 \n",
            " dropout_4 (Dropout)         (None, 128)               0         \n",
            "                                                                 \n",
            " dense_7 (Dense)             (None, 10)                1290      \n",
            "                                                                 \n",
            "=================================================================\n",
            "Total params: 101,770\n",
            "Trainable params: 101,770\n",
            "Non-trainable params: 0\n",
            "_________________________________________________________________\n"
          ]
        }
      ]
    },
    {
      "cell_type": "code",
      "source": [
        "history = model.fit(x_train, y_train, epochs=7)"
      ],
      "metadata": {
        "id": "44gAezgQ7mqD",
        "colab": {
          "base_uri": "https://localhost:8080/"
        },
        "outputId": "c336d182-8682-4997-8628-5e15895a0c6e"
      },
      "execution_count": 73,
      "outputs": [
        {
          "output_type": "stream",
          "name": "stdout",
          "text": [
            "Epoch 1/7\n",
            "1875/1875 [==============================] - 5s 3ms/step - loss: 0.2973 - accuracy: 0.9148\n",
            "Epoch 2/7\n",
            "1875/1875 [==============================] - 5s 3ms/step - loss: 0.1462 - accuracy: 0.9569\n",
            "Epoch 3/7\n",
            "1875/1875 [==============================] - 5s 3ms/step - loss: 0.1086 - accuracy: 0.9666\n",
            "Epoch 4/7\n",
            "1875/1875 [==============================] - 5s 3ms/step - loss: 0.0874 - accuracy: 0.9732\n",
            "Epoch 5/7\n",
            "1875/1875 [==============================] - 5s 3ms/step - loss: 0.0762 - accuracy: 0.9758\n",
            "Epoch 6/7\n",
            "1875/1875 [==============================] - 5s 3ms/step - loss: 0.0670 - accuracy: 0.9788\n",
            "Epoch 7/7\n",
            "1875/1875 [==============================] - 5s 3ms/step - loss: 0.0580 - accuracy: 0.9808\n"
          ]
        }
      ]
    },
    {
      "cell_type": "code",
      "source": [
        "model.evaluate(x_test, y_test)"
      ],
      "metadata": {
        "id": "toaDkaYt7oma",
        "colab": {
          "base_uri": "https://localhost:8080/"
        },
        "outputId": "29a2b239-905e-41a3-9072-a4328cde2b1f"
      },
      "execution_count": 74,
      "outputs": [
        {
          "output_type": "stream",
          "name": "stdout",
          "text": [
            "313/313 [==============================] - 1s 2ms/step - loss: 0.0723 - accuracy: 0.9795\n"
          ]
        },
        {
          "output_type": "execute_result",
          "data": {
            "text/plain": [
              "[0.07233486324548721, 0.9794999957084656]"
            ]
          },
          "metadata": {},
          "execution_count": 74
        }
      ]
    },
    {
      "cell_type": "code",
      "source": [
        "import cv2\n",
        "import matplotlib.pyplot as plt\n",
        "%matplotlib inline\n",
        "\n",
        "\n",
        "y=cv2.imread('/content/dato de prueba.png')   #image outside mnist data\n",
        "y1=cv2.resize(y,(28,28))                #you need to resize it on the bsis pf your  modeL's image shape\n",
        "plt.imshow(y1)\n",
        "\n",
        "temp = cv2.cvtColor(y1,cv2.COLOR_BGR2YCrCb)  #since its a three channel image i hav econverted into this so rbg are represented in the luminance one \n",
        "temp=255-temp                                #negative image\n",
        "plt.imshow(temp)\n",
        "\n",
        "X = np.zeros((temp.shape[0], temp.shape[1],1), dtype=float)    #array of (28,28,1)\n",
        "X[:,:,0] = temp[:, :,0].astype(float) / 255           #fitting the data of temp image in that zeros and normalizing it\n",
        "prediccion = model.predict(X.reshape(1,28,28,1))       #finally the value of image\n",
        "Resultado = np.argmax(prediccion, axis=1) + 1\n",
        "print('El resultado es :', Resultado[0])"
      ],
      "metadata": {
        "id": "XOXzG3sCQjz6"
      },
      "execution_count": null,
      "outputs": []
    }
  ]
}